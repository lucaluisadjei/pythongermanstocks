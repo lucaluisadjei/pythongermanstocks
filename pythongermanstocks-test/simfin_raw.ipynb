{
 "cells": [
  {
   "cell_type": "code",
   "execution_count": 1,
   "metadata": {},
   "outputs": [
    {
     "name": "stdout",
     "output_type": "stream",
     "text": [
      "Dataset \"de-companies\" on disk (0 days old).\n",
      "- Loading from disk ... Done!\n",
      "Companies data saved to data/raw/de_companies_data_RAW.csv\n",
      "Dataset \"de-shareprices-daily\" on disk (1 days old).\n",
      "- Loading from disk ... Done!\n"
     ]
    },
    {
     "name": "stderr",
     "output_type": "stream",
     "text": [
      "c:\\Users\\Wambui\\AppData\\Local\\Programs\\Python\\Python313\\Lib\\site-packages\\simfin\\load.py:154: FutureWarning: The argument 'date_parser' is deprecated and will be removed in a future version. Please use 'date_format' instead, or read your data in as 'object' dtype and then call 'to_datetime'.\n",
      "  df = pd.read_csv(path, sep=';', header=0,\n",
      "c:\\Users\\Wambui\\AppData\\Local\\Programs\\Python\\Python313\\Lib\\site-packages\\simfin\\load.py:154: FutureWarning: The argument 'date_parser' is deprecated and will be removed in a future version. Please use 'date_format' instead, or read your data in as 'object' dtype and then call 'to_datetime'.\n",
      "  df = pd.read_csv(path, sep=';', header=0,\n"
     ]
    },
    {
     "name": "stdout",
     "output_type": "stream",
     "text": [
      "Share prices data saved to data/raw/de_share_prices_data_RAW.csv\n"
     ]
    }
   ],
   "source": [
    "import os\n",
    "import pandas as pd\n",
    "from dotenv import load_dotenv\n",
    "import simfin as sf\n",
    "\n",
    "class SimFinAPI:\n",
    "    \"\"\"\n",
    "    A class to interact with the SimFin API and download financial data for processing.\n",
    "    \"\"\"\n",
    "\n",
    "    def __init__(self):\n",
    "        self.__load_dotenv()\n",
    "        self.__token = os.getenv(\"API_KEY\")\n",
    "        sf.set_api_key(self.__token)\n",
    "        sf.set_data_dir('~/simfin_data/')\n",
    "        self.companies_path = 'data/raw/de_companies_data_RAW.csv'\n",
    "        self.share_prices_path = 'data/raw/de_share_prices_data_RAW.csv'\n",
    "\n",
    "    def __load_dotenv(self):\n",
    "        load_dotenv()\n",
    "\n",
    "    def get_companies(self, market='de'):\n",
    "        \"\"\"\n",
    "        Fetch companies data and save it to a hardcoded file path.\n",
    "\n",
    "        Args:\n",
    "            market (str): The market to fetch the companies data for.\n",
    "        Returns:\n",
    "            pd.DataFrame: A DataFrame containing companies data.\n",
    "        \"\"\"\n",
    "        try:\n",
    "            # Load company data for the specified market\n",
    "            df_companies = sf.load_companies(market=market)\n",
    "\n",
    "            # Reset index to access 'Ticker'\n",
    "            df_companies = df_companies.reset_index() \n",
    "\n",
    "            # Save companies data to the hardcoded CSV file\n",
    "            df_companies.to_csv(self.companies_path, index=False)\n",
    "            print(f\"Companies data saved to {self.companies_path}\")\n",
    "\n",
    "            return df_companies[['SimFinId', 'Ticker']]\n",
    "        \n",
    "        except Exception as e:\n",
    "            print(f\"Error fetching company data: {e}\")\n",
    "            return None\n",
    "\n",
    "    def get_share_prices(self, market='de', variant='daily'):\n",
    "        \"\"\"\n",
    "        Fetch share prices data and save it to a hardcoded file path.\n",
    "\n",
    "        Args:\n",
    "            market (str): The market to fetch the share prices data for.\n",
    "            variant (str): The variant of the share prices data (e.g., 'daily').\n",
    "        Returns:\n",
    "            pd.DataFrame: A DataFrame containing share prices data.\n",
    "        \"\"\"\n",
    "        try:\n",
    "            # Load share prices for the specified market and variant\n",
    "            df_prices = sf.load_shareprices(market=market, variant=variant)\n",
    "\n",
    "            # Reset index for easier handling\n",
    "            df_prices = df_prices.reset_index()\n",
    "\n",
    "            # Save share prices data to the hardcoded CSV file\n",
    "            df_prices.to_csv(self.share_prices_path, index=False)\n",
    "            print(f\"Share prices data saved to {self.share_prices_path}\")\n",
    "\n",
    "        except Exception as e:\n",
    "            print(f\"Error fetching share prices: {e}\")\n",
    "            return None\n",
    "        \n",
    "\n",
    "# Initialize the API handler\n",
    "simfin_api = SimFinAPI()\n",
    "\n",
    "# Fetch and save individual datasets\n",
    "simfin_api.get_companies() \n",
    "simfin_api.get_share_prices() \n"
   ]
  }
 ],
 "metadata": {
  "kernelspec": {
   "display_name": "Python 3",
   "language": "python",
   "name": "python3"
  },
  "language_info": {
   "codemirror_mode": {
    "name": "ipython",
    "version": 3
   },
   "file_extension": ".py",
   "mimetype": "text/x-python",
   "name": "python",
   "nbconvert_exporter": "python",
   "pygments_lexer": "ipython3",
   "version": "3.13.1"
  }
 },
 "nbformat": 4,
 "nbformat_minor": 2
}
