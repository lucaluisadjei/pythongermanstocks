{
 "cells": [
  {
   "cell_type": "code",
   "execution_count": 1,
   "metadata": {},
   "outputs": [],
   "source": [
    "#!pip install plotly\n",
    "#!pip install simfin\n",
    "#!pip install dotenv\n",
    "#!pip install requests"
   ]
  },
  {
   "cell_type": "code",
   "execution_count": 2,
   "metadata": {},
   "outputs": [],
   "source": [
    "import warnings\n",
    "warnings.filterwarnings(\"ignore\")\n",
    "\n",
    "import json\n",
    "\n",
    "import numpy as np\n",
    "import pandas as pd\n",
    "\n",
    "import plotly.express as px\n",
    "\n",
    "import simfin as sf\n",
    "\n",
    "from simfin.names import *\n",
    "\n",
    "import os\n",
    "from time import sleep\n",
    "from dotenv import load_dotenv\n",
    "import datetime\n",
    "import requests\n",
    "import json\n",
    "from functools import reduce\n"
   ]
  },
  {
   "cell_type": "code",
   "execution_count": 3,
   "metadata": {},
   "outputs": [],
   "source": [
    "class SimFinAPI:\n",
    "\n",
    "    def __init__(self):\n",
    "        self.__load_dotenv()\n",
    "        self.__token = os.getenv(\"API_KEY\")\n",
    "        sf.set_api_key(self.__token)\n",
    "        sf.set_data_dir('~/simfin_data/')\n",
    "\n",
    "    def __load_dotenv(self):\n",
    "        load_dotenv()\n",
    "\n",
    "    def get_companies(self, market='de'):\n",
    "        try:\n",
    "            # Load company data for the specified market\n",
    "            df_companies = sf.load_companies(market=market)\n",
    "            df_companies = df_companies.reset_index()  # Reset index to access 'Ticker'\n",
    "            return df_companies[['SimFinId', 'Ticker']]\n",
    "        except Exception as e:\n",
    "            print(f\"Error fetching company data: {e}\")\n",
    "            return None\n",
    "\n",
    "    def get_share_prices(self, market='de', variant='daily', tickers=None, start_date=None, end_date=None):\n",
    "        try:\n",
    "            # Load share prices for the specified market and variant\n",
    "            df_prices = sf.load_shareprices(market=market, variant=variant)\n",
    "            \n",
    "           # Filter for the specified tickers\n",
    "            if tickers:\n",
    "                df_prices = df_prices.loc[df_prices.index.get_level_values('Ticker').isin(tickers)]\n",
    "            \n",
    "            # Convert index to datetime if not already in datetime format\n",
    "            df_prices.index = pd.to_datetime(df_prices.index.get_level_values('Date'))\n",
    "            \n",
    "            # Filter by date range if provided\n",
    "            if start_date:\n",
    "                start_date = pd.to_datetime(start_date)\n",
    "                df_prices = df_prices[df_prices.index >= start_date]\n",
    "            if end_date:\n",
    "                end_date = pd.to_datetime(end_date)\n",
    "                df_prices = df_prices[df_prices.index <= end_date]\n",
    "\n",
    "\n",
    "            # Load company data to map SimFinId to Ticker\n",
    "            df_companies = self.get_companies(market)\n",
    "            df_prices = df_prices.reset_index() \n",
    "            if df_companies is not None:\n",
    "                df_prices = df_prices.merge(df_companies, on='SimFinId', how='left')\n",
    "            \n",
    "            return df_prices\n",
    "        except Exception as e:\n",
    "            print(f\"Error fetching share prices: {e}\")\n",
    "            return None\n",
    "\n"
   ]
  },
  {
   "cell_type": "code",
   "execution_count": 7,
   "metadata": {},
   "outputs": [
    {
     "name": "stdout",
     "output_type": "stream",
     "text": [
      "Dataset \"de-shareprices-daily\" on disk (0 days old).\n",
      "- Loading from disk ... Done!\n",
      "Dataset \"de-companies\" on disk (0 days old).\n",
      "- Loading from disk ... Done!\n"
     ]
    }
   ],
   "source": [
    "# Create an instance of the SimFinAPI class\n",
    "simfin_api = SimFinAPI()\n",
    "\n",
    "# Define the start date, end date and tickers\n",
    "start_date = '2023-01-01'\n",
    "end_date = '2022-12-31'\n",
    "tickers = ['MBG.DE', 'BMW.DE', 'VOW.DE']\n",
    "\n",
    "# Get share prices for the tickers\n",
    "ticker_prices = simfin_api.get_share_prices(tickers=tickers, start_date=start_date, end_date=end_date)\n"
   ]
  },
  {
   "cell_type": "code",
   "execution_count": 8,
   "metadata": {},
   "outputs": [
    {
     "data": {
      "text/html": [
       "<div>\n",
       "<style scoped>\n",
       "    .dataframe tbody tr th:only-of-type {\n",
       "        vertical-align: middle;\n",
       "    }\n",
       "\n",
       "    .dataframe tbody tr th {\n",
       "        vertical-align: top;\n",
       "    }\n",
       "\n",
       "    .dataframe thead th {\n",
       "        text-align: right;\n",
       "    }\n",
       "</style>\n",
       "<table border=\"1\" class=\"dataframe\">\n",
       "  <thead>\n",
       "    <tr style=\"text-align: right;\">\n",
       "      <th></th>\n",
       "      <th>Date</th>\n",
       "      <th>SimFinId</th>\n",
       "      <th>Open</th>\n",
       "      <th>High</th>\n",
       "      <th>Low</th>\n",
       "      <th>Close</th>\n",
       "      <th>Adj. Close</th>\n",
       "      <th>Volume</th>\n",
       "      <th>Dividend</th>\n",
       "      <th>Shares Outstanding</th>\n",
       "      <th>Ticker</th>\n",
       "    </tr>\n",
       "  </thead>\n",
       "  <tbody>\n",
       "  </tbody>\n",
       "</table>\n",
       "</div>"
      ],
      "text/plain": [
       "Empty DataFrame\n",
       "Columns: [Date, SimFinId, Open, High, Low, Close, Adj. Close, Volume, Dividend, Shares Outstanding, Ticker]\n",
       "Index: []"
      ]
     },
     "execution_count": 8,
     "metadata": {},
     "output_type": "execute_result"
    }
   ],
   "source": [
    "ticker_prices.head()"
   ]
  },
  {
   "cell_type": "code",
   "execution_count": 9,
   "metadata": {},
   "outputs": [
    {
     "data": {
      "application/vnd.plotly.v1+json": {
       "config": {
        "plotlyServerURL": "https://plot.ly"
       },
       "data": [],
       "layout": {
        "legend": {
         "tracegroupgap": 0
        },
        "template": {
         "data": {
          "scatter": [
           {
            "type": "scatter"
           }
          ]
         }
        },
        "title": {
         "text": "Automotive Sector Closing Prices"
        },
        "xaxis": {
         "anchor": "y",
         "domain": [
          0,
          1
         ],
         "title": {
          "text": "Date"
         }
        },
        "yaxis": {
         "anchor": "x",
         "domain": [
          0,
          1
         ],
         "title": {
          "text": "Closing Price"
         }
        }
       }
      }
     },
     "metadata": {},
     "output_type": "display_data"
    }
   ],
   "source": [
    "# Closing Price plot\n",
    "fig = px.line(\n",
    "    ticker_prices, x='Date', y='Close', color='Ticker', text='Close',\n",
    "    title=\"Automotive Sector Closing Prices\",\n",
    "    template=\"none\"\n",
    ")\n",
    "\n",
    "fig.update_xaxes(title=\"Date\")\n",
    "fig.update_yaxes(title=\"Closing Price\")\n",
    "fig.update_traces(\n",
    "    mode=\"lines\",\n",
    "    marker_size=10, line_width=3,\n",
    "    error_y_color=\"gray\",\n",
    "    error_y_thickness=1,\n",
    "    error_y_width=10\n",
    ")\n"
   ]
  },
  {
   "cell_type": "code",
   "execution_count": null,
   "metadata": {},
   "outputs": [],
   "source": []
  }
 ],
 "metadata": {
  "kernelspec": {
   "display_name": "base",
   "language": "python",
   "name": "python3"
  },
  "language_info": {
   "codemirror_mode": {
    "name": "ipython",
    "version": 3
   },
   "file_extension": ".py",
   "mimetype": "text/x-python",
   "name": "python",
   "nbconvert_exporter": "python",
   "pygments_lexer": "ipython3",
   "version": "3.12.7"
  }
 },
 "nbformat": 4,
 "nbformat_minor": 2
}
